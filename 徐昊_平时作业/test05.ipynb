{
 "cells": [
  {
   "cell_type": "code",
   "execution_count": 2,
   "metadata": {},
   "outputs": [],
   "source": [
    "import z3"
   ]
  },
  {
   "cell_type": "code",
   "execution_count": 3,
   "metadata": {},
   "outputs": [
    {
     "name": "stdout",
     "output_type": "stream",
     "text": [
      "[rabbits = 12, chicken = 23]\n"
     ]
    }
   ],
   "source": [
    "chicken, rabbits = z3.Ints('chicken rabbits')\n",
    "z3.solve(chicken >= 1,   # number of chicken\n",
    "      rabbits >= 1,      # number of rabbits\n",
    "      chicken + rabbits == 35,\n",
    "      chicken * 2 + rabbits * 4 == 94)\n"
   ]
  },
  {
   "cell_type": "code",
   "execution_count": 4,
   "metadata": {},
   "outputs": [
    {
     "name": "stdout",
     "output_type": "stream",
     "text": [
      "sat\n",
      "[triangle = 1, square = 2, circle = 5]\n"
     ]
    }
   ],
   "source": [
    "from z3 import *\n",
    "circle, square, triangle = Ints('circle square triangle')\n",
    "s = Solver()\n",
    "s.add(circle+circle==10)\n",
    "s.add(circle*square+square==12)\n",
    "s.add(circle*square-triangle*circle==circle)\n",
    "print(s.check())\n",
    "print(s.model())"
   ]
  },
  {
   "cell_type": "code",
   "execution_count": 5,
   "metadata": {},
   "outputs": [
    {
     "name": "stdout",
     "output_type": "stream",
     "text": [
      "[b = 5, a = 4, c = 1, d = 3, e = 0, f = 2]\n"
     ]
    }
   ],
   "source": [
    "# 甲、乙、丙、丁、戊和己6个人正在超市排队交款。\n",
    "# 己没有排在最后，而且他和最后一个人之间还有两个人;\n",
    "# 戊不是最后一个人;\n",
    "# 在甲的前面至少还有4个人，但他没有排在最后;\n",
    "# 丁没有排在第一位，他前后至少都有两个人;\n",
    "# 丙没有排在最前面，也没有排在最后。\n",
    "# 请问，他们6个人的顺序是怎么排的?\n",
    "from z3 import *\n",
    "a, b, c, d, e, f = z3.Ints(\"a b c d e f\")\n",
    "z3.solve(\n",
    "        Distinct(a, b, c, d, e, f),\n",
    "        a >= 0, a <= 5,\n",
    "        b >= 0, b <= 5,\n",
    "        c >= 0, c <= 5,\n",
    "        d >= 0, d <= 5,\n",
    "        e >= 0, e <= 5,\n",
    "        f >= 0, f <= 5,\n",
    "        f != 5,\n",
    "        f == 2,\n",
    "        a >= 4,\n",
    "        a != 5,\n",
    "        d != 0,\n",
    "        d >= 2,\n",
    "        d <= 3,\n",
    "        c != 0,\n",
    "        c != 5)"
   ]
  },
  {
   "cell_type": "code",
   "execution_count": 6,
   "metadata": {},
   "outputs": [
    {
     "name": "stdout",
     "output_type": "stream",
     "text": [
      "[Q_5 = 5,\n",
      " Q_8 = 4,\n",
      " Q_3 = 1,\n",
      " Q_2 = 3,\n",
      " Q_6 = 8,\n",
      " Q_4 = 7,\n",
      " Q_7 = 2,\n",
      " Q_1 = 6]\n"
     ]
    }
   ],
   "source": [
    "# 八皇后问题\n",
    "Q = [ Int('Q_%i' % (i + 1)) for i in range(8) ]\n",
    "\n",
    "# Each queen is in a column {1, ... 8 }\n",
    "val_c = [ And(1 <= Q[i], Q[i] <= 8) for i in range(8) ]\n",
    "\n",
    "# At most one queen per column\n",
    "col_c = [ Distinct(Q) ]\n",
    "\n",
    "# Diagonal constraint\n",
    "diag_c = [ If(i == j,\n",
    "              True,\n",
    "              And(Q[i] - Q[j] != i - j, Q[i] - Q[j] != j - i))\n",
    "           for i in range(8) for j in range(i) ]\n",
    "\n",
    "solve(val_c + col_c + diag_c) "
   ]
  },
  {
   "cell_type": "code",
   "execution_count": 8,
   "metadata": {},
   "outputs": [
    {
     "name": "stdout",
     "output_type": "stream",
     "text": [
      "sat\n",
      "f(f(x)) = 0\n",
      "f(x)    = 1\n"
     ]
    }
   ],
   "source": [
    "# 程序生产\n",
    "from z3 import *\n",
    "x = Int('x')\n",
    "y = Int('y')\n",
    "f = Function('f', IntSort(), IntSort())\n",
    "s = Solver()\n",
    "s.add(f(f(x)) == x, f(x) == y, x != y)\n",
    "print(s.check())\n",
    "m = s.model()\n",
    "print(\"f(f(x)) =\", m.evaluate(f(f(x))))\n",
    "print(\"f(x)    =\", m.evaluate(f(x)))\n"
   ]
  },
  {
   "cell_type": "code",
   "execution_count": null,
   "metadata": {},
   "outputs": [],
   "source": []
  },
  {
   "cell_type": "code",
   "execution_count": null,
   "metadata": {},
   "outputs": [],
   "source": []
  },
  {
   "cell_type": "code",
   "execution_count": null,
   "metadata": {},
   "outputs": [],
   "source": []
  }
 ],
 "metadata": {
  "kernelspec": {
   "display_name": "Python 3",
   "language": "python",
   "name": "python3"
  },
  "language_info": {
   "codemirror_mode": {
    "name": "ipython",
    "version": 3
   },
   "file_extension": ".py",
   "mimetype": "text/x-python",
   "name": "python",
   "nbconvert_exporter": "python",
   "pygments_lexer": "ipython3",
   "version": "3.7.4"
  }
 },
 "nbformat": 4,
 "nbformat_minor": 2
}
