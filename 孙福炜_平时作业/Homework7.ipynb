{
 "cells": [
  {
   "cell_type": "markdown",
   "metadata": {},
   "source": [
    "单元测试"
   ]
  },
  {
   "cell_type": "code",
   "execution_count": 1,
   "metadata": {},
   "outputs": [],
   "source": [
    "def triangle(a, b, c):\n",
    "    if a + b <= c:\n",
    "        return \"错误\"\n",
    "    triangle_type = \"\"\n",
    "    if a == b == c:\n",
    "        triangle_type = \"等边\"\n",
    "    elif a == b or b == c or a == c:\n",
    "        triangle_type = \"等腰\"\n",
    "    else:\n",
    "        triangle_type = \"一般\"\n",
    "\n",
    "    if a ** 2 + b ** 2 == c ** 2:\n",
    "        triangle_type += \"直角\"\n",
    "    return triangle_type\n"
   ]
  },
  {
   "cell_type": "code",
   "execution_count": 2,
   "metadata": {},
   "outputs": [
    {
     "name": "stdout",
     "output_type": "stream",
     "text": [
      "等边\n",
      "错误\n",
      "等边\n",
      "一般直角\n"
     ]
    }
   ],
   "source": [
    "print(triangle(1, 1, 1))\n",
    "print(triangle(1, 2, 3))\n",
    "print(triangle(3, 3, 3))\n",
    "print(triangle(3, 4, 5))"
   ]
  },
  {
   "cell_type": "code",
   "execution_count": 3,
   "metadata": {},
   "outputs": [],
   "source": [
    "import unittest\n",
    "\n",
    "class TestTriangle(unittest.TestCase):\n",
    "    def test_triangle1(self):\n",
    "        self.assertEqual(triangle(0, 0, 0), \"错误\")\n",
    "    def test_triangle2(self):\n",
    "        self.assertEqual(triangle(1, 1, 1), \"等边\")\n",
    "    def test_triangle3(self):\n",
    "        self.assertEqual(triangle(1, 3, 2), \"错误\")\n"
   ]
  },
  {
   "cell_type": "code",
   "execution_count": 4,
   "metadata": {},
   "outputs": [
    {
     "name": "stderr",
     "output_type": "stream",
     "text": [
      "test_triangle1 (__main__.TestTriangle) ... ok\n",
      "test_triangle2 (__main__.TestTriangle) ... ok\n",
      "test_triangle3 (__main__.TestTriangle) ... FAIL\n",
      "\n",
      "======================================================================\n",
      "FAIL: test_triangle3 (__main__.TestTriangle)\n",
      "----------------------------------------------------------------------\n",
      "Traceback (most recent call last):\n",
      "  File \"<ipython-input-3-027b87e61010>\", line 9, in test_triangle3\n",
      "    self.assertEqual(triangle(1, 3, 2), \"错误\")\n",
      "AssertionError: '一般' != '错误'\n",
      "- 一般\n",
      "+ 错误\n",
      "\n",
      "\n",
      "----------------------------------------------------------------------\n",
      "Ran 3 tests in 0.006s\n",
      "\n",
      "FAILED (failures=1)\n"
     ]
    },
    {
     "data": {
      "text/plain": [
       "<unittest.runner.TextTestResult run=3 errors=0 failures=1>"
      ]
     },
     "execution_count": 4,
     "metadata": {},
     "output_type": "execute_result"
    }
   ],
   "source": [
    "suite = unittest.TestLoader().loadTestsFromTestCase(TestTriangle)\n",
    "runner = unittest.TextTestRunner(verbosity=2)\n",
    "runner.run(suite)"
   ]
  },
  {
   "cell_type": "code",
   "execution_count": null,
   "metadata": {},
   "outputs": [],
   "source": []
  },
  {
   "cell_type": "code",
   "execution_count": 5,
   "metadata": {},
   "outputs": [],
   "source": [
    "def triangle(a, b, c):\n",
    "    a, b, c = sorted([a, b, c])\n",
    "    if a + b <= c:\n",
    "        return \"错误\"\n",
    "    triangle_type = \"\"\n",
    "    if a == b == c:\n",
    "        triangle_type = \"等边\"\n",
    "    elif a == b or b == c or a == c:\n",
    "        triangle_type = \"等腰\"\n",
    "    else:\n",
    "        triangle_type = \"一般\"\n",
    "\n",
    "    if a ** 2 + b ** 2 == c ** 2:\n",
    "        triangle_type += \"直角\"\n",
    "    return triangle_type"
   ]
  },
  {
   "cell_type": "code",
   "execution_count": 6,
   "metadata": {},
   "outputs": [
    {
     "name": "stderr",
     "output_type": "stream",
     "text": [
      "test_triangle1 (__main__.TestTriangle) ... ok\n",
      "test_triangle2 (__main__.TestTriangle) ... ok\n",
      "test_triangle3 (__main__.TestTriangle) ... ok\n",
      "\n",
      "----------------------------------------------------------------------\n",
      "Ran 3 tests in 0.005s\n",
      "\n",
      "OK\n"
     ]
    },
    {
     "data": {
      "text/plain": [
       "<unittest.runner.TextTestResult run=3 errors=0 failures=0>"
      ]
     },
     "execution_count": 6,
     "metadata": {},
     "output_type": "execute_result"
    }
   ],
   "source": [
    "suite = unittest.TestLoader().loadTestsFromTestCase(TestTriangle)\n",
    "runner = unittest.TextTestRunner(verbosity=2)\n",
    "runner.run(suite)"
   ]
  },
  {
   "cell_type": "code",
   "execution_count": null,
   "metadata": {},
   "outputs": [],
   "source": []
  },
  {
   "cell_type": "code",
   "execution_count": null,
   "metadata": {},
   "outputs": [],
   "source": []
  }
 ],
 "metadata": {
  "kernelspec": {
   "display_name": "Python 3",
   "language": "python",
   "name": "python3"
  },
  "language_info": {
   "codemirror_mode": {
    "name": "ipython",
    "version": 3
   },
   "file_extension": ".py",
   "mimetype": "text/x-python",
   "name": "python",
   "nbconvert_exporter": "python",
   "pygments_lexer": "ipython3",
   "version": "3.7.3"
  }
 },
 "nbformat": 4,
 "nbformat_minor": 2
}
